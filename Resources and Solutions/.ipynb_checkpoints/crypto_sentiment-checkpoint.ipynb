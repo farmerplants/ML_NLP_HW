{
 "cells": [
  {
   "cell_type": "markdown",
   "metadata": {},
   "source": [
    "# Unit 12 - Tales from the Crypto\n",
    "\n",
    "---\n"
   ]
  },
  {
   "cell_type": "markdown",
   "metadata": {},
   "source": [
    "## 1. Sentiment Analysis\n",
    "\n",
    "Use the [newsapi](https://newsapi.org/) to pull the latest news articles for Bitcoin and Ethereum and create a DataFrame of sentiment scores for each coin.\n",
    "\n",
    "Use descriptive statistics to answer the following questions:\n",
    "1. Which coin had the highest mean positive score?\n",
    "2. Which coin had the highest negative score?\n",
    "3. Which coin had the highest positive score?"
   ]
  },
  {
   "cell_type": "code",
   "execution_count": 2,
   "metadata": {},
   "outputs": [
    {
     "name": "stderr",
     "output_type": "stream",
     "text": [
      "[nltk_data] Downloading package vader_lexicon to\n",
      "[nltk_data]     /Users/tylerhubbard/nltk_data...\n",
      "[nltk_data]   Package vader_lexicon is already up-to-date!\n"
     ]
    }
   ],
   "source": [
    "# Initial imports\n",
    "import os\n",
    "import pandas as pd\n",
    "from dotenv import load_dotenv, find_dotenv\n",
    "import nltk as nltk\n",
    "nltk.download('vader_lexicon')\n",
    "from nltk.sentiment.vader import SentimentIntensityAnalyzer\n",
    "analyzer = SentimentIntensityAnalyzer()\n",
    "from newsapi.newsapi_client import NewsApiClient\n",
    "\n",
    "%matplotlib inline"
   ]
  },
  {
   "cell_type": "code",
   "execution_count": 3,
   "metadata": {},
   "outputs": [],
   "source": [
    "# Read your api key environment variable\n",
    "# I need find_dotenv for my computer\n",
    "load_dotenv(find_dotenv('api_keys.env'))\n",
    "api_key = os.getenv('NEWS_API_KEY')"
   ]
  },
  {
   "cell_type": "code",
   "execution_count": 4,
   "metadata": {},
   "outputs": [],
   "source": [
    "# Create a newsapi client\n",
    "# Make sure to install NewsApiClient (done up above)\n",
    "newsapi = NewsApiClient(api_key = api_key)"
   ]
  },
  {
   "cell_type": "code",
   "execution_count": 5,
   "metadata": {},
   "outputs": [
    {
     "name": "stdout",
     "output_type": "stream",
     "text": [
      "Number of relevant Bitcoin news articles in English: 7387\n"
     ]
    }
   ],
   "source": [
    "# Fetch the Bitcoin news articles using newsapi and .get_everything\n",
    "btc_news = newsapi.get_everything(q='bitcoin', language='en')\n",
    "print(f'Number of relevant Bitcoin news articles in English: {btc_news[\"totalResults\"]}')"
   ]
  },
  {
   "cell_type": "code",
   "execution_count": 6,
   "metadata": {},
   "outputs": [
    {
     "name": "stdout",
     "output_type": "stream",
     "text": [
      "Number of relevant Ethereum news articles in English: 3576\n"
     ]
    }
   ],
   "source": [
    "# Fetch the Ethereum news articles using newsapi and .get_everything\n",
    "eth_news = newsapi.get_everything(q='ethereum', language='en')\n",
    "print(f'Number of relevant Ethereum news articles in English: {eth_news[\"totalResults\"]}')"
   ]
  },
  {
   "cell_type": "code",
   "execution_count": 7,
   "metadata": {},
   "outputs": [
    {
     "data": {
      "text/html": [
       "<div>\n",
       "<style scoped>\n",
       "    .dataframe tbody tr th:only-of-type {\n",
       "        vertical-align: middle;\n",
       "    }\n",
       "\n",
       "    .dataframe tbody tr th {\n",
       "        vertical-align: top;\n",
       "    }\n",
       "\n",
       "    .dataframe thead th {\n",
       "        text-align: right;\n",
       "    }\n",
       "</style>\n",
       "<table border=\"1\" class=\"dataframe\">\n",
       "  <thead>\n",
       "    <tr style=\"text-align: right;\">\n",
       "      <th></th>\n",
       "      <th>source</th>\n",
       "      <th>author</th>\n",
       "      <th>title</th>\n",
       "      <th>description</th>\n",
       "      <th>url</th>\n",
       "      <th>urlToImage</th>\n",
       "      <th>publishedAt</th>\n",
       "      <th>content</th>\n",
       "    </tr>\n",
       "  </thead>\n",
       "  <tbody>\n",
       "    <tr>\n",
       "      <th>0</th>\n",
       "      <td>{'id': 'the-verge', 'name': 'The Verge'}</td>\n",
       "      <td>Elizabeth Lopatto</td>\n",
       "      <td>If you’re a Russian YouTuber, how do you get p...</td>\n",
       "      <td>Russian creators are shut off from the global ...</td>\n",
       "      <td>https://www.theverge.com/2022/3/17/22982122/ru...</td>\n",
       "      <td>https://cdn.vox-cdn.com/thumbor/MG_NhB7wSIBIl3...</td>\n",
       "      <td>2022-03-17T13:33:43Z</td>\n",
       "      <td>When Russia invaded Ukraine, Niki Proshin was ...</td>\n",
       "    </tr>\n",
       "    <tr>\n",
       "      <th>1</th>\n",
       "      <td>{'id': None, 'name': 'Slashdot.org'}</td>\n",
       "      <td>EditorDavid</td>\n",
       "      <td>Why Isn't Bitcoin Booming?</td>\n",
       "      <td>\"Bitcoin was seen by many of its libertarian-l...</td>\n",
       "      <td>https://news.slashdot.org/story/22/03/12/05412...</td>\n",
       "      <td>https://a.fsdn.com/sd/topics/bitcoin_64.png</td>\n",
       "      <td>2022-03-12T18:34:00Z</td>\n",
       "      <td>\"Bitcoin was seen by many of its libertarian-l...</td>\n",
       "    </tr>\n",
       "    <tr>\n",
       "      <th>2</th>\n",
       "      <td>{'id': 'reuters', 'name': 'Reuters'}</td>\n",
       "      <td>None</td>\n",
       "      <td>CRYPTOVERSE-Bitcoin could be laid low by miner...</td>\n",
       "      <td>Bitcoin miners are feeling the heat - and the ...</td>\n",
       "      <td>https://www.reuters.com/markets/europe/cryptov...</td>\n",
       "      <td>https://www.reuters.com/resizer/9nBpgfg7pSfpPQ...</td>\n",
       "      <td>2022-02-22T06:17:00Z</td>\n",
       "      <td>Feb 22 (Reuters) - Bitcoin miners are feeling ...</td>\n",
       "    </tr>\n",
       "    <tr>\n",
       "      <th>3</th>\n",
       "      <td>{'id': 'reuters', 'name': 'Reuters'}</td>\n",
       "      <td>None</td>\n",
       "      <td>Cryptoverse: Bitcoin gains conflict currency c...</td>\n",
       "      <td>Bitcoin has leapt since Russia's invasion of U...</td>\n",
       "      <td>https://www.reuters.com/markets/europe/cryptov...</td>\n",
       "      <td>https://www.reuters.com/pf/resources/images/re...</td>\n",
       "      <td>2022-03-01T06:10:00Z</td>\n",
       "      <td>March 1 (Reuters) - Bitcoin has leapt since Ru...</td>\n",
       "    </tr>\n",
       "    <tr>\n",
       "      <th>4</th>\n",
       "      <td>{'id': 'wired', 'name': 'Wired'}</td>\n",
       "      <td>Gian M. Volpicelli</td>\n",
       "      <td>War Is Calling Crypto’s ‘Neutrality’ Into Ques...</td>\n",
       "      <td>War in Ukraine and Western sanctions against R...</td>\n",
       "      <td>https://www.wired.com/story/crypto-russia-ukra...</td>\n",
       "      <td>https://media.wired.com/photos/6226a83bd53a49d...</td>\n",
       "      <td>2022-03-08T12:00:00Z</td>\n",
       "      <td>Whose side is cryptocurrency on? If you had as...</td>\n",
       "    </tr>\n",
       "  </tbody>\n",
       "</table>\n",
       "</div>"
      ],
      "text/plain": [
       "                                     source              author  \\\n",
       "0  {'id': 'the-verge', 'name': 'The Verge'}   Elizabeth Lopatto   \n",
       "1      {'id': None, 'name': 'Slashdot.org'}         EditorDavid   \n",
       "2      {'id': 'reuters', 'name': 'Reuters'}                None   \n",
       "3      {'id': 'reuters', 'name': 'Reuters'}                None   \n",
       "4          {'id': 'wired', 'name': 'Wired'}  Gian M. Volpicelli   \n",
       "\n",
       "                                               title  \\\n",
       "0  If you’re a Russian YouTuber, how do you get p...   \n",
       "1                         Why Isn't Bitcoin Booming?   \n",
       "2  CRYPTOVERSE-Bitcoin could be laid low by miner...   \n",
       "3  Cryptoverse: Bitcoin gains conflict currency c...   \n",
       "4  War Is Calling Crypto’s ‘Neutrality’ Into Ques...   \n",
       "\n",
       "                                         description  \\\n",
       "0  Russian creators are shut off from the global ...   \n",
       "1  \"Bitcoin was seen by many of its libertarian-l...   \n",
       "2  Bitcoin miners are feeling the heat - and the ...   \n",
       "3  Bitcoin has leapt since Russia's invasion of U...   \n",
       "4  War in Ukraine and Western sanctions against R...   \n",
       "\n",
       "                                                 url  \\\n",
       "0  https://www.theverge.com/2022/3/17/22982122/ru...   \n",
       "1  https://news.slashdot.org/story/22/03/12/05412...   \n",
       "2  https://www.reuters.com/markets/europe/cryptov...   \n",
       "3  https://www.reuters.com/markets/europe/cryptov...   \n",
       "4  https://www.wired.com/story/crypto-russia-ukra...   \n",
       "\n",
       "                                          urlToImage           publishedAt  \\\n",
       "0  https://cdn.vox-cdn.com/thumbor/MG_NhB7wSIBIl3...  2022-03-17T13:33:43Z   \n",
       "1        https://a.fsdn.com/sd/topics/bitcoin_64.png  2022-03-12T18:34:00Z   \n",
       "2  https://www.reuters.com/resizer/9nBpgfg7pSfpPQ...  2022-02-22T06:17:00Z   \n",
       "3  https://www.reuters.com/pf/resources/images/re...  2022-03-01T06:10:00Z   \n",
       "4  https://media.wired.com/photos/6226a83bd53a49d...  2022-03-08T12:00:00Z   \n",
       "\n",
       "                                             content  \n",
       "0  When Russia invaded Ukraine, Niki Proshin was ...  \n",
       "1  \"Bitcoin was seen by many of its libertarian-l...  \n",
       "2  Feb 22 (Reuters) - Bitcoin miners are feeling ...  \n",
       "3  March 1 (Reuters) - Bitcoin has leapt since Ru...  \n",
       "4  Whose side is cryptocurrency on? If you had as...  "
      ]
     },
     "execution_count": 7,
     "metadata": {},
     "output_type": "execute_result"
    }
   ],
   "source": [
    "# Create the Bitcoin sentiment scores DataFrame using .from_dict()\n",
    "btc_sentiment = pd.DataFrame.from_dict(btc_news['articles'])\n",
    "btc_sentiment.head()"
   ]
  },
  {
   "cell_type": "code",
   "execution_count": 8,
   "metadata": {},
   "outputs": [
    {
     "data": {
      "text/html": [
       "<div>\n",
       "<style scoped>\n",
       "    .dataframe tbody tr th:only-of-type {\n",
       "        vertical-align: middle;\n",
       "    }\n",
       "\n",
       "    .dataframe tbody tr th {\n",
       "        vertical-align: top;\n",
       "    }\n",
       "\n",
       "    .dataframe thead th {\n",
       "        text-align: right;\n",
       "    }\n",
       "</style>\n",
       "<table border=\"1\" class=\"dataframe\">\n",
       "  <thead>\n",
       "    <tr style=\"text-align: right;\">\n",
       "      <th></th>\n",
       "      <th>source</th>\n",
       "      <th>author</th>\n",
       "      <th>title</th>\n",
       "      <th>description</th>\n",
       "      <th>url</th>\n",
       "      <th>urlToImage</th>\n",
       "      <th>publishedAt</th>\n",
       "      <th>content</th>\n",
       "    </tr>\n",
       "  </thead>\n",
       "  <tbody>\n",
       "    <tr>\n",
       "      <th>0</th>\n",
       "      <td>{'id': 'wired', 'name': 'Wired'}</td>\n",
       "      <td>Shanti Escalante-De Mattei</td>\n",
       "      <td>Web3 Threatens to Segregate Our Online Lives</td>\n",
       "      <td>Governance tokens seem like a tantalizing solu...</td>\n",
       "      <td>https://www.wired.com/story/web3-governance-to...</td>\n",
       "      <td>https://media.wired.com/photos/621d66c7ea3b8f2...</td>\n",
       "      <td>2022-03-01T14:00:00Z</td>\n",
       "      <td>In February, shit hit the fan in the usual way...</td>\n",
       "    </tr>\n",
       "    <tr>\n",
       "      <th>1</th>\n",
       "      <td>{'id': 'business-insider', 'name': 'Business I...</td>\n",
       "      <td>prosen@insider.com (Phil Rosen)</td>\n",
       "      <td>Coinbase earnings show trading of ethereum and...</td>\n",
       "      <td>Ethereum trading volume increased from 15% to ...</td>\n",
       "      <td>https://markets.businessinsider.com/news/curre...</td>\n",
       "      <td>https://i.insider.com/62190267d0009b001904bd96...</td>\n",
       "      <td>2022-02-25T17:02:30Z</td>\n",
       "      <td>Coinbase reported that the share of trading vo...</td>\n",
       "    </tr>\n",
       "    <tr>\n",
       "      <th>2</th>\n",
       "      <td>{'id': 'the-verge', 'name': 'The Verge'}</td>\n",
       "      <td>Elizabeth Lopatto</td>\n",
       "      <td>How Ukrainians are fundraising in cryptocurrency</td>\n",
       "      <td>Millions of dollars of cryptocurrency have flo...</td>\n",
       "      <td>https://www.theverge.com/2022/2/26/22952357/uk...</td>\n",
       "      <td>https://cdn.vox-cdn.com/thumbor/teEVxppIZ_JTW-...</td>\n",
       "      <td>2022-02-26T20:29:04Z</td>\n",
       "      <td>Illustration by James Bareham / The Verge\\r\\n\\...</td>\n",
       "    </tr>\n",
       "    <tr>\n",
       "      <th>3</th>\n",
       "      <td>{'id': 'wired', 'name': 'Wired'}</td>\n",
       "      <td>Omar L. Gallaga</td>\n",
       "      <td>How People Actually Make Money From Cryptocurr...</td>\n",
       "      <td>Power traders use “staking” and “yield farming...</td>\n",
       "      <td>https://www.wired.com/story/how-to-make-money-...</td>\n",
       "      <td>https://media.wired.com/photos/622bcc6ef48a924...</td>\n",
       "      <td>2022-03-13T13:00:00Z</td>\n",
       "      <td>If it sounds too good to be true, youre not wr...</td>\n",
       "    </tr>\n",
       "    <tr>\n",
       "      <th>4</th>\n",
       "      <td>{'id': None, 'name': 'Entrepreneur'}</td>\n",
       "      <td>Masha Prusso</td>\n",
       "      <td>What You Need to Know About Ethereum's Role in...</td>\n",
       "      <td>This now-seven-year-old decentralized and open...</td>\n",
       "      <td>https://www.entrepreneur.com/article/417850</td>\n",
       "      <td>https://assets.entrepreneur.com/content/3x2/20...</td>\n",
       "      <td>2022-03-03T16:00:00Z</td>\n",
       "      <td>It seems that in 2022, you cant escape from th...</td>\n",
       "    </tr>\n",
       "  </tbody>\n",
       "</table>\n",
       "</div>"
      ],
      "text/plain": [
       "                                              source  \\\n",
       "0                   {'id': 'wired', 'name': 'Wired'}   \n",
       "1  {'id': 'business-insider', 'name': 'Business I...   \n",
       "2           {'id': 'the-verge', 'name': 'The Verge'}   \n",
       "3                   {'id': 'wired', 'name': 'Wired'}   \n",
       "4               {'id': None, 'name': 'Entrepreneur'}   \n",
       "\n",
       "                            author  \\\n",
       "0       Shanti Escalante-De Mattei   \n",
       "1  prosen@insider.com (Phil Rosen)   \n",
       "2                Elizabeth Lopatto   \n",
       "3                  Omar L. Gallaga   \n",
       "4                     Masha Prusso   \n",
       "\n",
       "                                               title  \\\n",
       "0       Web3 Threatens to Segregate Our Online Lives   \n",
       "1  Coinbase earnings show trading of ethereum and...   \n",
       "2   How Ukrainians are fundraising in cryptocurrency   \n",
       "3  How People Actually Make Money From Cryptocurr...   \n",
       "4  What You Need to Know About Ethereum's Role in...   \n",
       "\n",
       "                                         description  \\\n",
       "0  Governance tokens seem like a tantalizing solu...   \n",
       "1  Ethereum trading volume increased from 15% to ...   \n",
       "2  Millions of dollars of cryptocurrency have flo...   \n",
       "3  Power traders use “staking” and “yield farming...   \n",
       "4  This now-seven-year-old decentralized and open...   \n",
       "\n",
       "                                                 url  \\\n",
       "0  https://www.wired.com/story/web3-governance-to...   \n",
       "1  https://markets.businessinsider.com/news/curre...   \n",
       "2  https://www.theverge.com/2022/2/26/22952357/uk...   \n",
       "3  https://www.wired.com/story/how-to-make-money-...   \n",
       "4        https://www.entrepreneur.com/article/417850   \n",
       "\n",
       "                                          urlToImage           publishedAt  \\\n",
       "0  https://media.wired.com/photos/621d66c7ea3b8f2...  2022-03-01T14:00:00Z   \n",
       "1  https://i.insider.com/62190267d0009b001904bd96...  2022-02-25T17:02:30Z   \n",
       "2  https://cdn.vox-cdn.com/thumbor/teEVxppIZ_JTW-...  2022-02-26T20:29:04Z   \n",
       "3  https://media.wired.com/photos/622bcc6ef48a924...  2022-03-13T13:00:00Z   \n",
       "4  https://assets.entrepreneur.com/content/3x2/20...  2022-03-03T16:00:00Z   \n",
       "\n",
       "                                             content  \n",
       "0  In February, shit hit the fan in the usual way...  \n",
       "1  Coinbase reported that the share of trading vo...  \n",
       "2  Illustration by James Bareham / The Verge\\r\\n\\...  \n",
       "3  If it sounds too good to be true, youre not wr...  \n",
       "4  It seems that in 2022, you cant escape from th...  "
      ]
     },
     "execution_count": 8,
     "metadata": {},
     "output_type": "execute_result"
    }
   ],
   "source": [
    "# Create the Ethereum sentiment scores DataFrame\n",
    "eth_sentiment = pd.DataFrame.from_dict(eth_news['articles'])\n",
    "eth_sentiment.head()"
   ]
  },
  {
   "cell_type": "code",
   "execution_count": 9,
   "metadata": {},
   "outputs": [],
   "source": [
    "# Create a function with all the results to transform the 'articles' list in a df\n",
    "# A list of dicts is used to create the df structure, so an empty list 'articles' is created before starting\n",
    "def create_sentiment_df(articles_list):\n",
    "    sentiments = []\n",
    "    \n",
    "    # Create a for-loop to iterate across the articles list to fetch and filter data\n",
    "    for article in articles_list['articles']:\n",
    "        try:\n",
    "            text = article['content']\n",
    "            date = article['publishedAt'][:10]\n",
    "            sentiment = analyzer.polarity_scores(text)\n",
    "            compound = sentiment['compound']\n",
    "            neu = sentiment['neu']\n",
    "            pos = sentiment['pos']\n",
    "            neg = sentiment['neg']\n",
    "            \n",
    "            sentiments.append({\n",
    "                'text' : text,\n",
    "                'date' : date,\n",
    "                'compound' : compound, \n",
    "                'neutral' : neu,\n",
    "                'negative' : neg,\n",
    "                'positive' : pos\n",
    "            })\n",
    "        except AttributeError:\n",
    "            pass\n",
    "    df = pd.DataFrame(sentiments)\n",
    "    return df"
   ]
  },
  {
   "cell_type": "code",
   "execution_count": 10,
   "metadata": {},
   "outputs": [
    {
     "data": {
      "text/html": [
       "<div>\n",
       "<style scoped>\n",
       "    .dataframe tbody tr th:only-of-type {\n",
       "        vertical-align: middle;\n",
       "    }\n",
       "\n",
       "    .dataframe tbody tr th {\n",
       "        vertical-align: top;\n",
       "    }\n",
       "\n",
       "    .dataframe thead th {\n",
       "        text-align: right;\n",
       "    }\n",
       "</style>\n",
       "<table border=\"1\" class=\"dataframe\">\n",
       "  <thead>\n",
       "    <tr style=\"text-align: right;\">\n",
       "      <th></th>\n",
       "      <th>text</th>\n",
       "      <th>date</th>\n",
       "      <th>compound</th>\n",
       "      <th>neutral</th>\n",
       "      <th>negative</th>\n",
       "      <th>positive</th>\n",
       "    </tr>\n",
       "  </thead>\n",
       "  <tbody>\n",
       "    <tr>\n",
       "      <th>0</th>\n",
       "      <td>When Russia invaded Ukraine, Niki Proshin was ...</td>\n",
       "      <td>2022-03-17</td>\n",
       "      <td>0.0000</td>\n",
       "      <td>1.000</td>\n",
       "      <td>0.000</td>\n",
       "      <td>0.000</td>\n",
       "    </tr>\n",
       "    <tr>\n",
       "      <th>1</th>\n",
       "      <td>\"Bitcoin was seen by many of its libertarian-l...</td>\n",
       "      <td>2022-03-12</td>\n",
       "      <td>-0.7713</td>\n",
       "      <td>0.831</td>\n",
       "      <td>0.169</td>\n",
       "      <td>0.000</td>\n",
       "    </tr>\n",
       "    <tr>\n",
       "      <th>2</th>\n",
       "      <td>Feb 22 (Reuters) - Bitcoin miners are feeling ...</td>\n",
       "      <td>2022-02-22</td>\n",
       "      <td>-0.1779</td>\n",
       "      <td>0.887</td>\n",
       "      <td>0.067</td>\n",
       "      <td>0.046</td>\n",
       "    </tr>\n",
       "    <tr>\n",
       "      <th>3</th>\n",
       "      <td>March 1 (Reuters) - Bitcoin has leapt since Ru...</td>\n",
       "      <td>2022-03-01</td>\n",
       "      <td>0.0000</td>\n",
       "      <td>1.000</td>\n",
       "      <td>0.000</td>\n",
       "      <td>0.000</td>\n",
       "    </tr>\n",
       "    <tr>\n",
       "      <th>4</th>\n",
       "      <td>Whose side is cryptocurrency on? If you had as...</td>\n",
       "      <td>2022-03-08</td>\n",
       "      <td>-0.3182</td>\n",
       "      <td>0.854</td>\n",
       "      <td>0.091</td>\n",
       "      <td>0.055</td>\n",
       "    </tr>\n",
       "  </tbody>\n",
       "</table>\n",
       "</div>"
      ],
      "text/plain": [
       "                                                text        date  compound  \\\n",
       "0  When Russia invaded Ukraine, Niki Proshin was ...  2022-03-17    0.0000   \n",
       "1  \"Bitcoin was seen by many of its libertarian-l...  2022-03-12   -0.7713   \n",
       "2  Feb 22 (Reuters) - Bitcoin miners are feeling ...  2022-02-22   -0.1779   \n",
       "3  March 1 (Reuters) - Bitcoin has leapt since Ru...  2022-03-01    0.0000   \n",
       "4  Whose side is cryptocurrency on? If you had as...  2022-03-08   -0.3182   \n",
       "\n",
       "   neutral  negative  positive  \n",
       "0    1.000     0.000     0.000  \n",
       "1    0.831     0.169     0.000  \n",
       "2    0.887     0.067     0.046  \n",
       "3    1.000     0.000     0.000  \n",
       "4    0.854     0.091     0.055  "
      ]
     },
     "execution_count": 10,
     "metadata": {},
     "output_type": "execute_result"
    }
   ],
   "source": [
    "# Create btc sentiment df and check it before describing\n",
    "btc_sentiment_df = create_sentiment_df(btc_news)\n",
    "btc_sentiment_df.head()"
   ]
  },
  {
   "cell_type": "code",
   "execution_count": 11,
   "metadata": {},
   "outputs": [
    {
     "data": {
      "text/html": [
       "<div>\n",
       "<style scoped>\n",
       "    .dataframe tbody tr th:only-of-type {\n",
       "        vertical-align: middle;\n",
       "    }\n",
       "\n",
       "    .dataframe tbody tr th {\n",
       "        vertical-align: top;\n",
       "    }\n",
       "\n",
       "    .dataframe thead th {\n",
       "        text-align: right;\n",
       "    }\n",
       "</style>\n",
       "<table border=\"1\" class=\"dataframe\">\n",
       "  <thead>\n",
       "    <tr style=\"text-align: right;\">\n",
       "      <th></th>\n",
       "      <th>compound</th>\n",
       "      <th>neutral</th>\n",
       "      <th>negative</th>\n",
       "      <th>positive</th>\n",
       "    </tr>\n",
       "  </thead>\n",
       "  <tbody>\n",
       "    <tr>\n",
       "      <th>count</th>\n",
       "      <td>20.000000</td>\n",
       "      <td>20.000000</td>\n",
       "      <td>20.000000</td>\n",
       "      <td>20.000000</td>\n",
       "    </tr>\n",
       "    <tr>\n",
       "      <th>mean</th>\n",
       "      <td>0.001295</td>\n",
       "      <td>0.908500</td>\n",
       "      <td>0.043750</td>\n",
       "      <td>0.047700</td>\n",
       "    </tr>\n",
       "    <tr>\n",
       "      <th>std</th>\n",
       "      <td>0.406381</td>\n",
       "      <td>0.071992</td>\n",
       "      <td>0.061198</td>\n",
       "      <td>0.045767</td>\n",
       "    </tr>\n",
       "    <tr>\n",
       "      <th>min</th>\n",
       "      <td>-0.771300</td>\n",
       "      <td>0.739000</td>\n",
       "      <td>0.000000</td>\n",
       "      <td>0.000000</td>\n",
       "    </tr>\n",
       "    <tr>\n",
       "      <th>25%</th>\n",
       "      <td>-0.231275</td>\n",
       "      <td>0.861500</td>\n",
       "      <td>0.000000</td>\n",
       "      <td>0.000000</td>\n",
       "    </tr>\n",
       "    <tr>\n",
       "      <th>50%</th>\n",
       "      <td>0.000000</td>\n",
       "      <td>0.918000</td>\n",
       "      <td>0.000000</td>\n",
       "      <td>0.051500</td>\n",
       "    </tr>\n",
       "    <tr>\n",
       "      <th>75%</th>\n",
       "      <td>0.345300</td>\n",
       "      <td>0.952500</td>\n",
       "      <td>0.071000</td>\n",
       "      <td>0.075750</td>\n",
       "    </tr>\n",
       "    <tr>\n",
       "      <th>max</th>\n",
       "      <td>0.636900</td>\n",
       "      <td>1.000000</td>\n",
       "      <td>0.187000</td>\n",
       "      <td>0.152000</td>\n",
       "    </tr>\n",
       "  </tbody>\n",
       "</table>\n",
       "</div>"
      ],
      "text/plain": [
       "        compound    neutral   negative   positive\n",
       "count  20.000000  20.000000  20.000000  20.000000\n",
       "mean    0.001295   0.908500   0.043750   0.047700\n",
       "std     0.406381   0.071992   0.061198   0.045767\n",
       "min    -0.771300   0.739000   0.000000   0.000000\n",
       "25%    -0.231275   0.861500   0.000000   0.000000\n",
       "50%     0.000000   0.918000   0.000000   0.051500\n",
       "75%     0.345300   0.952500   0.071000   0.075750\n",
       "max     0.636900   1.000000   0.187000   0.152000"
      ]
     },
     "execution_count": 11,
     "metadata": {},
     "output_type": "execute_result"
    }
   ],
   "source": [
    "# Describe the Bitcoin Sentiment\n",
    "btc_sentiment_df.describe()"
   ]
  },
  {
   "cell_type": "code",
   "execution_count": 12,
   "metadata": {},
   "outputs": [
    {
     "data": {
      "text/html": [
       "<div>\n",
       "<style scoped>\n",
       "    .dataframe tbody tr th:only-of-type {\n",
       "        vertical-align: middle;\n",
       "    }\n",
       "\n",
       "    .dataframe tbody tr th {\n",
       "        vertical-align: top;\n",
       "    }\n",
       "\n",
       "    .dataframe thead th {\n",
       "        text-align: right;\n",
       "    }\n",
       "</style>\n",
       "<table border=\"1\" class=\"dataframe\">\n",
       "  <thead>\n",
       "    <tr style=\"text-align: right;\">\n",
       "      <th></th>\n",
       "      <th>text</th>\n",
       "      <th>date</th>\n",
       "      <th>compound</th>\n",
       "      <th>neutral</th>\n",
       "      <th>negative</th>\n",
       "      <th>positive</th>\n",
       "    </tr>\n",
       "  </thead>\n",
       "  <tbody>\n",
       "    <tr>\n",
       "      <th>0</th>\n",
       "      <td>In February, shit hit the fan in the usual way...</td>\n",
       "      <td>2022-03-01</td>\n",
       "      <td>-0.3182</td>\n",
       "      <td>0.848</td>\n",
       "      <td>0.093</td>\n",
       "      <td>0.059</td>\n",
       "    </tr>\n",
       "    <tr>\n",
       "      <th>1</th>\n",
       "      <td>Coinbase reported that the share of trading vo...</td>\n",
       "      <td>2022-02-25</td>\n",
       "      <td>0.6705</td>\n",
       "      <td>0.812</td>\n",
       "      <td>0.000</td>\n",
       "      <td>0.188</td>\n",
       "    </tr>\n",
       "    <tr>\n",
       "      <th>2</th>\n",
       "      <td>Illustration by James Bareham / The Verge\\r\\n\\...</td>\n",
       "      <td>2022-02-26</td>\n",
       "      <td>-0.4588</td>\n",
       "      <td>0.917</td>\n",
       "      <td>0.083</td>\n",
       "      <td>0.000</td>\n",
       "    </tr>\n",
       "    <tr>\n",
       "      <th>3</th>\n",
       "      <td>If it sounds too good to be true, youre not wr...</td>\n",
       "      <td>2022-03-13</td>\n",
       "      <td>0.8340</td>\n",
       "      <td>0.713</td>\n",
       "      <td>0.050</td>\n",
       "      <td>0.236</td>\n",
       "    </tr>\n",
       "    <tr>\n",
       "      <th>4</th>\n",
       "      <td>It seems that in 2022, you cant escape from th...</td>\n",
       "      <td>2022-03-03</td>\n",
       "      <td>-0.1326</td>\n",
       "      <td>0.956</td>\n",
       "      <td>0.044</td>\n",
       "      <td>0.000</td>\n",
       "    </tr>\n",
       "  </tbody>\n",
       "</table>\n",
       "</div>"
      ],
      "text/plain": [
       "                                                text        date  compound  \\\n",
       "0  In February, shit hit the fan in the usual way...  2022-03-01   -0.3182   \n",
       "1  Coinbase reported that the share of trading vo...  2022-02-25    0.6705   \n",
       "2  Illustration by James Bareham / The Verge\\r\\n\\...  2022-02-26   -0.4588   \n",
       "3  If it sounds too good to be true, youre not wr...  2022-03-13    0.8340   \n",
       "4  It seems that in 2022, you cant escape from th...  2022-03-03   -0.1326   \n",
       "\n",
       "   neutral  negative  positive  \n",
       "0    0.848     0.093     0.059  \n",
       "1    0.812     0.000     0.188  \n",
       "2    0.917     0.083     0.000  \n",
       "3    0.713     0.050     0.236  \n",
       "4    0.956     0.044     0.000  "
      ]
     },
     "execution_count": 12,
     "metadata": {},
     "output_type": "execute_result"
    }
   ],
   "source": [
    "# Create eth sentiment df and check it before describing\n",
    "eth_sentiment_df = create_sentiment_df(eth_news)\n",
    "eth_sentiment_df.head()"
   ]
  },
  {
   "cell_type": "code",
   "execution_count": 13,
   "metadata": {},
   "outputs": [
    {
     "data": {
      "text/html": [
       "<div>\n",
       "<style scoped>\n",
       "    .dataframe tbody tr th:only-of-type {\n",
       "        vertical-align: middle;\n",
       "    }\n",
       "\n",
       "    .dataframe tbody tr th {\n",
       "        vertical-align: top;\n",
       "    }\n",
       "\n",
       "    .dataframe thead th {\n",
       "        text-align: right;\n",
       "    }\n",
       "</style>\n",
       "<table border=\"1\" class=\"dataframe\">\n",
       "  <thead>\n",
       "    <tr style=\"text-align: right;\">\n",
       "      <th></th>\n",
       "      <th>compound</th>\n",
       "      <th>neutral</th>\n",
       "      <th>negative</th>\n",
       "      <th>positive</th>\n",
       "    </tr>\n",
       "  </thead>\n",
       "  <tbody>\n",
       "    <tr>\n",
       "      <th>count</th>\n",
       "      <td>20.000000</td>\n",
       "      <td>20.00000</td>\n",
       "      <td>20.00000</td>\n",
       "      <td>20.000000</td>\n",
       "    </tr>\n",
       "    <tr>\n",
       "      <th>mean</th>\n",
       "      <td>0.190925</td>\n",
       "      <td>0.89145</td>\n",
       "      <td>0.02975</td>\n",
       "      <td>0.078750</td>\n",
       "    </tr>\n",
       "    <tr>\n",
       "      <th>std</th>\n",
       "      <td>0.401422</td>\n",
       "      <td>0.10092</td>\n",
       "      <td>0.04006</td>\n",
       "      <td>0.085383</td>\n",
       "    </tr>\n",
       "    <tr>\n",
       "      <th>min</th>\n",
       "      <td>-0.526700</td>\n",
       "      <td>0.69200</td>\n",
       "      <td>0.00000</td>\n",
       "      <td>0.000000</td>\n",
       "    </tr>\n",
       "    <tr>\n",
       "      <th>25%</th>\n",
       "      <td>0.000000</td>\n",
       "      <td>0.84100</td>\n",
       "      <td>0.00000</td>\n",
       "      <td>0.000000</td>\n",
       "    </tr>\n",
       "    <tr>\n",
       "      <th>50%</th>\n",
       "      <td>0.025800</td>\n",
       "      <td>0.91050</td>\n",
       "      <td>0.00000</td>\n",
       "      <td>0.066500</td>\n",
       "    </tr>\n",
       "    <tr>\n",
       "      <th>75%</th>\n",
       "      <td>0.514625</td>\n",
       "      <td>1.00000</td>\n",
       "      <td>0.06125</td>\n",
       "      <td>0.120500</td>\n",
       "    </tr>\n",
       "    <tr>\n",
       "      <th>max</th>\n",
       "      <td>0.834000</td>\n",
       "      <td>1.00000</td>\n",
       "      <td>0.11500</td>\n",
       "      <td>0.249000</td>\n",
       "    </tr>\n",
       "  </tbody>\n",
       "</table>\n",
       "</div>"
      ],
      "text/plain": [
       "        compound   neutral  negative   positive\n",
       "count  20.000000  20.00000  20.00000  20.000000\n",
       "mean    0.190925   0.89145   0.02975   0.078750\n",
       "std     0.401422   0.10092   0.04006   0.085383\n",
       "min    -0.526700   0.69200   0.00000   0.000000\n",
       "25%     0.000000   0.84100   0.00000   0.000000\n",
       "50%     0.025800   0.91050   0.00000   0.066500\n",
       "75%     0.514625   1.00000   0.06125   0.120500\n",
       "max     0.834000   1.00000   0.11500   0.249000"
      ]
     },
     "execution_count": 13,
     "metadata": {},
     "output_type": "execute_result"
    }
   ],
   "source": [
    "# Describe the Ethereum Sentiment\n",
    "eth_sentiment_df.describe()"
   ]
  },
  {
   "cell_type": "markdown",
   "metadata": {},
   "source": [
    "### Questions:\n",
    "\n",
    "Q: Which coin had the highest mean positive score?\n",
    "\n",
    "A: Ethereum (0.0788) had a higher score than Bitcoin (0.0477).\n",
    "\n",
    "Q: Which coin had the highest compound score?\n",
    "\n",
    "A: Ethereum's max score (0.834) had a higher score than Bitcoin (0.637)\n",
    "\n",
    "Q. Which coin had the highest positive score?\n",
    "\n",
    "A: Ethereum had a higher positive score (0.249) than Bitcoin (0.152)"
   ]
  },
  {
   "cell_type": "markdown",
   "metadata": {},
   "source": [
    "---"
   ]
  },
  {
   "cell_type": "markdown",
   "metadata": {},
   "source": [
    "## 2. Natural Language Processing\n",
    "---\n",
    "###   Tokenizer\n",
    "\n",
    "In this section, you will use NLTK and Python to tokenize the text for each coin. Be sure to:\n",
    "1. Lowercase each word.\n",
    "2. Remove Punctuation.\n",
    "3. Remove Stopwords."
   ]
  },
  {
   "cell_type": "code",
   "execution_count": 14,
   "metadata": {},
   "outputs": [],
   "source": [
    "from nltk.tokenize import word_tokenize, sent_tokenize\n",
    "from nltk.corpus import stopwords\n",
    "from nltk.stem import WordNetLemmatizer, PorterStemmer\n",
    "from string import punctuation\n",
    "import re"
   ]
  },
  {
   "cell_type": "code",
   "execution_count": 15,
   "metadata": {},
   "outputs": [
    {
     "name": "stderr",
     "output_type": "stream",
     "text": [
      "[nltk_data] Downloading package stopwords to\n",
      "[nltk_data]     /Users/tylerhubbard/nltk_data...\n",
      "[nltk_data]   Package stopwords is already up-to-date!\n",
      "[nltk_data] Downloading package punkt to\n",
      "[nltk_data]     /Users/tylerhubbard/nltk_data...\n",
      "[nltk_data]   Package punkt is already up-to-date!\n",
      "[nltk_data] Downloading package wordnet to\n",
      "[nltk_data]     /Users/tylerhubbard/nltk_data...\n",
      "[nltk_data]   Package wordnet is already up-to-date!\n",
      "[nltk_data] Downloading package omw-1.4 to\n",
      "[nltk_data]     /Users/tylerhubbard/nltk_data...\n",
      "[nltk_data]   Package omw-1.4 is already up-to-date!\n"
     ]
    },
    {
     "data": {
      "text/plain": [
       "True"
      ]
     },
     "execution_count": 15,
     "metadata": {},
     "output_type": "execute_result"
    }
   ],
   "source": [
    "# I have to use the following for my stopwords:\n",
    "import nltk\n",
    "nltk.download('stopwords')\n",
    "nltk.download('punkt')\n",
    "nltk.download('wordnet')\n",
    "nltk.download('omw-1.4')"
   ]
  },
  {
   "cell_type": "code",
   "execution_count": 16,
   "metadata": {},
   "outputs": [],
   "source": [
    "# Instantiate the lemmatizer\n",
    "lemmatizer = WordNetLemmatizer()\n",
    "\n",
    "# Create a list of stopwords\n",
    "stop_words = set(stopwords.words('english'))\n",
    "\n",
    "# Expand the default stopwords list if necessary\n",
    "stop_words = stop_words.union({'reuters', 'com', 'char', 'ha', 'illustration'})"
   ]
  },
  {
   "cell_type": "code",
   "execution_count": 17,
   "metadata": {},
   "outputs": [],
   "source": [
    "# Complete the tokenizer function\n",
    "def tokenizer(text):\n",
    "    \"\"\"Tokenizes text.\"\"\"\n",
    "    \n",
    "    # Remove the punctuation from text\n",
    "    text = text.translate(str.maketrans('', '', punctuation))\n",
    "   \n",
    "    # Create a tokenized list of the words\n",
    "    tokens_re = word_tokenize(text)\n",
    "    \n",
    "    # Lemmatize words into root words\n",
    "    lemmatized_tokens = [lemmatizer.lemmatize(token) for token in tokens_re]\n",
    "\n",
    "   \n",
    "    # Convert the words to lowercase and remove stops\n",
    "    tokens = [token.lower() for token in lemmatized_tokens if token.lower() not in stop_words]\n",
    "              \n",
    "    return tokens"
   ]
  },
  {
   "cell_type": "code",
   "execution_count": 18,
   "metadata": {},
   "outputs": [],
   "source": [
    "# Add a new tokens column to a df\n",
    "def addTokensColumn(df_tokens_column):\n",
    "    \n",
    "    # Make a .copy() to reuse\n",
    "    df = df_tokens_column.copy()\n",
    "    \n",
    "    # Create the column\n",
    "    df['tokens'] = df.apply(lambda row: (tokenizer(row.text)), axis=1)\n",
    "    cols = ['date', 'text', 'tokens', 'compound', 'positive', 'negative', 'neutral']\n",
    "    df = df[cols]\n",
    "    \n",
    "    return df"
   ]
  },
  {
   "cell_type": "code",
   "execution_count": 19,
   "metadata": {},
   "outputs": [
    {
     "data": {
      "text/html": [
       "<div>\n",
       "<style scoped>\n",
       "    .dataframe tbody tr th:only-of-type {\n",
       "        vertical-align: middle;\n",
       "    }\n",
       "\n",
       "    .dataframe tbody tr th {\n",
       "        vertical-align: top;\n",
       "    }\n",
       "\n",
       "    .dataframe thead th {\n",
       "        text-align: right;\n",
       "    }\n",
       "</style>\n",
       "<table border=\"1\" class=\"dataframe\">\n",
       "  <thead>\n",
       "    <tr style=\"text-align: right;\">\n",
       "      <th></th>\n",
       "      <th>date</th>\n",
       "      <th>text</th>\n",
       "      <th>tokens</th>\n",
       "      <th>compound</th>\n",
       "      <th>positive</th>\n",
       "      <th>negative</th>\n",
       "      <th>neutral</th>\n",
       "    </tr>\n",
       "  </thead>\n",
       "  <tbody>\n",
       "    <tr>\n",
       "      <th>0</th>\n",
       "      <td>2022-03-17</td>\n",
       "      <td>When Russia invaded Ukraine, Niki Proshin was ...</td>\n",
       "      <td>[russia, invaded, ukraine, niki, proshin, wa, ...</td>\n",
       "      <td>0.0000</td>\n",
       "      <td>0.000</td>\n",
       "      <td>0.000</td>\n",
       "      <td>1.000</td>\n",
       "    </tr>\n",
       "    <tr>\n",
       "      <th>1</th>\n",
       "      <td>2022-03-12</td>\n",
       "      <td>\"Bitcoin was seen by many of its libertarian-l...</td>\n",
       "      <td>[bitcoin, wa, seen, many, libertarianleaning, ...</td>\n",
       "      <td>-0.7713</td>\n",
       "      <td>0.000</td>\n",
       "      <td>0.169</td>\n",
       "      <td>0.831</td>\n",
       "    </tr>\n",
       "    <tr>\n",
       "      <th>2</th>\n",
       "      <td>2022-02-22</td>\n",
       "      <td>Feb 22 (Reuters) - Bitcoin miners are feeling ...</td>\n",
       "      <td>[feb, 22, bitcoin, miner, feeling, heat, pain,...</td>\n",
       "      <td>-0.1779</td>\n",
       "      <td>0.046</td>\n",
       "      <td>0.067</td>\n",
       "      <td>0.887</td>\n",
       "    </tr>\n",
       "    <tr>\n",
       "      <th>3</th>\n",
       "      <td>2022-03-01</td>\n",
       "      <td>March 1 (Reuters) - Bitcoin has leapt since Ru...</td>\n",
       "      <td>[march, 1, bitcoin, leapt, since, russias, inv...</td>\n",
       "      <td>0.0000</td>\n",
       "      <td>0.000</td>\n",
       "      <td>0.000</td>\n",
       "      <td>1.000</td>\n",
       "    </tr>\n",
       "    <tr>\n",
       "      <th>4</th>\n",
       "      <td>2022-03-08</td>\n",
       "      <td>Whose side is cryptocurrency on? If you had as...</td>\n",
       "      <td>[whose, side, cryptocurrency, asked, satoshi, ...</td>\n",
       "      <td>-0.3182</td>\n",
       "      <td>0.055</td>\n",
       "      <td>0.091</td>\n",
       "      <td>0.854</td>\n",
       "    </tr>\n",
       "  </tbody>\n",
       "</table>\n",
       "</div>"
      ],
      "text/plain": [
       "         date                                               text  \\\n",
       "0  2022-03-17  When Russia invaded Ukraine, Niki Proshin was ...   \n",
       "1  2022-03-12  \"Bitcoin was seen by many of its libertarian-l...   \n",
       "2  2022-02-22  Feb 22 (Reuters) - Bitcoin miners are feeling ...   \n",
       "3  2022-03-01  March 1 (Reuters) - Bitcoin has leapt since Ru...   \n",
       "4  2022-03-08  Whose side is cryptocurrency on? If you had as...   \n",
       "\n",
       "                                              tokens  compound  positive  \\\n",
       "0  [russia, invaded, ukraine, niki, proshin, wa, ...    0.0000     0.000   \n",
       "1  [bitcoin, wa, seen, many, libertarianleaning, ...   -0.7713     0.000   \n",
       "2  [feb, 22, bitcoin, miner, feeling, heat, pain,...   -0.1779     0.046   \n",
       "3  [march, 1, bitcoin, leapt, since, russias, inv...    0.0000     0.000   \n",
       "4  [whose, side, cryptocurrency, asked, satoshi, ...   -0.3182     0.055   \n",
       "\n",
       "   negative  neutral  \n",
       "0     0.000    1.000  \n",
       "1     0.169    0.831  \n",
       "2     0.067    0.887  \n",
       "3     0.000    1.000  \n",
       "4     0.091    0.854  "
      ]
     },
     "execution_count": 19,
     "metadata": {},
     "output_type": "execute_result"
    }
   ],
   "source": [
    "# Create a new tokens column for Bitcoin\n",
    "btc_sentiment_df = addTokensColumn(btc_sentiment_df)\n",
    "btc_sentiment_df.head()"
   ]
  },
  {
   "cell_type": "code",
   "execution_count": 20,
   "metadata": {},
   "outputs": [
    {
     "data": {
      "text/html": [
       "<div>\n",
       "<style scoped>\n",
       "    .dataframe tbody tr th:only-of-type {\n",
       "        vertical-align: middle;\n",
       "    }\n",
       "\n",
       "    .dataframe tbody tr th {\n",
       "        vertical-align: top;\n",
       "    }\n",
       "\n",
       "    .dataframe thead th {\n",
       "        text-align: right;\n",
       "    }\n",
       "</style>\n",
       "<table border=\"1\" class=\"dataframe\">\n",
       "  <thead>\n",
       "    <tr style=\"text-align: right;\">\n",
       "      <th></th>\n",
       "      <th>date</th>\n",
       "      <th>text</th>\n",
       "      <th>tokens</th>\n",
       "      <th>compound</th>\n",
       "      <th>positive</th>\n",
       "      <th>negative</th>\n",
       "      <th>neutral</th>\n",
       "    </tr>\n",
       "  </thead>\n",
       "  <tbody>\n",
       "    <tr>\n",
       "      <th>0</th>\n",
       "      <td>2022-03-01</td>\n",
       "      <td>In February, shit hit the fan in the usual way...</td>\n",
       "      <td>[february, shit, hit, fan, usual, way, old, tw...</td>\n",
       "      <td>-0.3182</td>\n",
       "      <td>0.059</td>\n",
       "      <td>0.093</td>\n",
       "      <td>0.848</td>\n",
       "    </tr>\n",
       "    <tr>\n",
       "      <th>1</th>\n",
       "      <td>2022-02-25</td>\n",
       "      <td>Coinbase reported that the share of trading vo...</td>\n",
       "      <td>[coinbase, reported, share, trading, volume, e...</td>\n",
       "      <td>0.6705</td>\n",
       "      <td>0.188</td>\n",
       "      <td>0.000</td>\n",
       "      <td>0.812</td>\n",
       "    </tr>\n",
       "    <tr>\n",
       "      <th>2</th>\n",
       "      <td>2022-02-26</td>\n",
       "      <td>Illustration by James Bareham / The Verge\\r\\n\\...</td>\n",
       "      <td>[james, bareham, verge, 15, million, donated, ...</td>\n",
       "      <td>-0.4588</td>\n",
       "      <td>0.000</td>\n",
       "      <td>0.083</td>\n",
       "      <td>0.917</td>\n",
       "    </tr>\n",
       "    <tr>\n",
       "      <th>3</th>\n",
       "      <td>2022-03-13</td>\n",
       "      <td>If it sounds too good to be true, youre not wr...</td>\n",
       "      <td>[sound, good, true, youre, wrong, yield, farmi...</td>\n",
       "      <td>0.8340</td>\n",
       "      <td>0.236</td>\n",
       "      <td>0.050</td>\n",
       "      <td>0.713</td>\n",
       "    </tr>\n",
       "    <tr>\n",
       "      <th>4</th>\n",
       "      <td>2022-03-03</td>\n",
       "      <td>It seems that in 2022, you cant escape from th...</td>\n",
       "      <td>[seems, 2022, cant, escape, metaverse, faceboo...</td>\n",
       "      <td>-0.1326</td>\n",
       "      <td>0.000</td>\n",
       "      <td>0.044</td>\n",
       "      <td>0.956</td>\n",
       "    </tr>\n",
       "  </tbody>\n",
       "</table>\n",
       "</div>"
      ],
      "text/plain": [
       "         date                                               text  \\\n",
       "0  2022-03-01  In February, shit hit the fan in the usual way...   \n",
       "1  2022-02-25  Coinbase reported that the share of trading vo...   \n",
       "2  2022-02-26  Illustration by James Bareham / The Verge\\r\\n\\...   \n",
       "3  2022-03-13  If it sounds too good to be true, youre not wr...   \n",
       "4  2022-03-03  It seems that in 2022, you cant escape from th...   \n",
       "\n",
       "                                              tokens  compound  positive  \\\n",
       "0  [february, shit, hit, fan, usual, way, old, tw...   -0.3182     0.059   \n",
       "1  [coinbase, reported, share, trading, volume, e...    0.6705     0.188   \n",
       "2  [james, bareham, verge, 15, million, donated, ...   -0.4588     0.000   \n",
       "3  [sound, good, true, youre, wrong, yield, farmi...    0.8340     0.236   \n",
       "4  [seems, 2022, cant, escape, metaverse, faceboo...   -0.1326     0.000   \n",
       "\n",
       "   negative  neutral  \n",
       "0     0.093    0.848  \n",
       "1     0.000    0.812  \n",
       "2     0.083    0.917  \n",
       "3     0.050    0.713  \n",
       "4     0.044    0.956  "
      ]
     },
     "execution_count": 20,
     "metadata": {},
     "output_type": "execute_result"
    }
   ],
   "source": [
    "# Create a new tokens column for Ethereum\n",
    "eth_sentiment_df = addTokensColumn(eth_sentiment_df)\n",
    "eth_sentiment_df.head()"
   ]
  },
  {
   "cell_type": "markdown",
   "metadata": {},
   "source": [
    "---"
   ]
  },
  {
   "cell_type": "markdown",
   "metadata": {},
   "source": [
    "### NGrams and Frequency Analysis\n",
    "\n",
    "In this section you will look at the ngrams and word frequency for each coin. \n",
    "\n",
    "1. Use NLTK to produce the n-grams for N = 2. \n",
    "2. List the top 10 words for each coin. "
   ]
  },
  {
   "cell_type": "code",
   "execution_count": 21,
   "metadata": {},
   "outputs": [],
   "source": [
    "from collections import Counter\n",
    "from nltk import ngrams"
   ]
  },
  {
   "cell_type": "code",
   "execution_count": 27,
   "metadata": {},
   "outputs": [
    {
     "name": "stdout",
     "output_type": "stream",
     "text": [
      "{('russia', 'invaded'): 2, ('invaded', 'ukraine'): 2, ('ukraine', 'niki'): 1, ('niki', 'proshin'): 1, ('proshin', 'wa'): 1, ('wa', 'already'): 1, ('already', 'year'): 1, ('year', 'making'): 1, ('making', 'living'): 1, ('living', 'vlogger'): 1, ('vlogger', '—'): 1, ('—', 'youtube'): 1, ('youtube', 'channel'): 1, ('channel', 'tiktok'): 1, ('tiktok', 'channel'): 1, ('channel', 'instagram'): 1, ('instagram', 'also'): 1, ('also', 'ran'): 1, ('ran', 'online'): 1, ('online', 'russian'): 1, ('russian', 'club'): 1, ('club', 'a…'): 1, ('a…', '5883'): 1, ('5883', 'bitcoin'): 1, ('bitcoin', 'wa'): 1, ('wa', 'seen'): 1, ('seen', 'many'): 1, ('many', 'libertarianleaning'): 1, ('libertarianleaning', 'fan'): 1, ('fan', 'kind'): 1, ('kind', 'doomsday'): 1, ('doomsday', 'insurance'): 1, ('insurance', 'argues'): 1, ('argues', 'columnist'): 1, ('columnist', 'new'): 1, ('new', 'york'): 1, ('york', 'times'): 1, ('times', 'form'): 1, ('form', 'digital'): 1, ('digital', 'gold'): 1, ('gold', 'would'): 1, ('would', 'source'): 1, ('source', 'stability'): 1, ('stability', '…'): 1, ('…', '3914'): 1, ('3914', 'feb'): 1, ('feb', '22'): 1, ('22', 'bitcoin'): 1, ('bitcoin', 'miner'): 1, ('miner', 'feeling'): 1, ('feeling', 'heat'): 1, ('heat', 'pain'): 1, ('pain', 'rippling'): 1, ('rippling', 'downstream'): 1, ('downstream', 'pressure'): 1, ('pressure', 'price'): 1, ('price', 'cryptocurrencys'): 1, ('cryptocurrencys', 'spectacular'): 1, ('spectacular', 'rally'): 1, ('rally', '2021'): 1, ('2021', 'drew'): 1, ('drew', 'thousand'): 1, ('thousand', 'entrant'): 1, ('entrant', 'mining…'): 1, ('mining…', '4196'): 1, ('4196', 'march'): 1, ('march', '1'): 1, ('1', 'bitcoin'): 1, ('bitcoin', 'leapt'): 1, ('leapt', 'since'): 1, ('since', 'russias'): 1, ('russias', 'invasion'): 1, ('invasion', 'ukraine'): 1, ('ukraine', 'bolstered'): 1, ('bolstered', 'people'): 1, ('people', 'country'): 1, ('country', 'looking'): 1, ('looking', 'store'): 1, ('store', 'move'): 1, ('move', 'money'): 1, ('money', 'anonymous'): 1, ('anonymous', 'decentralised'): 1, ('decentralised', 'crypto'): 1, ('crypto', 'bitcoin'): 1, ('bitcoin', 'tradin…'): 1, ('tradin…', '3955'): 1, ('3955', 'whose'): 1, ('whose', 'side'): 1, ('side', 'cryptocurrency'): 1, ('cryptocurrency', 'asked'): 1, ('asked', 'satoshi'): 1, ('satoshi', 'nakamoto'): 1, ('nakamoto', 'pseudonymous'): 1, ('pseudonymous', 'person'): 1, ('person', 'person'): 1, ('person', 'created'): 1, ('created', 'bitcoin'): 1, ('bitcoin', 'platform'): 1, ('platform', '2008'): 1, ('2008', 'hethey'): 1, ('hethey', 'likely'): 1, ('likely', 'would'): 1, ('would', 'rejected'): 1, ('rejected', 'question'): 1, ('question', 'the…'): 1, ('the…', '3643'): 1, ('3643', 'getty'): 1, ('getty', 'welcome'): 2, ('welcome', 'nonfungible'): 2, ('nonfungible', 'tidbits'): 2, ('tidbits', 'focus'): 1, ('focus', 'week'): 1, ('week', 'russias'): 1, ('russias', 'war'): 1, ('war', 'ukraine'): 1, ('ukraine', 'addition'): 1, ('addition', 'uprooting'): 1, ('uprooting', 'life'): 1, ('life', 'ukrainians'): 1, ('ukrainians', 'throwing'): 1, ('throwing', 'international'): 1, ('international', 'order'): 1, ('order', 'chaos'): 1, ('chaos', 'russian'): 1, ('russian', 'in…'): 1, ('in…', '3275'): 1, ('3275', 'heres'): 1, ('heres', 'happened'): 1, ('happened', 'week'): 1, ('week', 'crypto'): 1, ('crypto', 'world'): 1, ('world', 'getty'): 1, ('tidbits', 'weekly'): 1, ('weekly', 'roundup'): 1, ('roundup', 'news'): 1, ('news', 'crypto'): 1, ('crypto', 'nfts'): 1, ('nfts', 'related'): 1, ('related', 'realm'): 1, ('realm', 'lead'): 1, ('lead', 'story'): 1, ('story', 'week'): 1, ('week', 'possibi…'): 1, ('possibi…', '2860'): 1, ('2860', 'appeal'): 1, ('appeal', 'court'): 1, ('court', 'decided'): 1, ('decided', 'shilling'): 1, ('shilling', 'unregistered'): 1, ('unregistered', 'security'): 1, ('security', 'youtube'): 1, ('youtube', 'thing'): 1, ('thing', 'letter'): 1, ('letter', 'alex'): 1, ('alex', 'castro'): 1, ('castro', 'verge'): 1, ('verge', 'story'): 1, ('story', 'bitconnect'): 1, ('bitconnect', 'doesnt'): 1, ('doesnt', 'include'): 1, ('include', 'a…'): 1, ('a…', '3046'): 1, ('3046', 'nurphotogetty'): 1, ('nurphotogetty', 'russia'): 1, ('russia', 'launched'): 1, ('launched', 'invasion'): 1, ('invasion', 'home'): 1, ('home', 'country'): 1, ('country', 'last'): 1, ('last', 'thursday'): 1, ('thursday', 'ukranian'): 1, ('ukranian', 'photographer'): 1, ('photographer', 'vitaliy'): 1, ('vitaliy', 'raskalov'): 1, ('raskalov', 'found'): 1, ('found', 'world'): 1, ('world', 'away'): 1, ('away', 'mexico'): 1, ('mexico', 'city'): 1, ('city', 'spoke'): 1, ('spoke', 'telegr…'): 1, ('telegr…', '7815'): 1, ('7815', 'london'): 1, ('london', 'march'): 1, ('march', '4'): 1, ('4', 'cryptocurrencies'): 1, ('cryptocurrencies', 'close'): 1, ('close', 'headline'): 1, ('headline', 'since'): 1, ('since', 'russia'): 2, ('ukraine', 'evervolatile'): 1, ('evervolatile', 'bitcoin'): 1, ('bitcoin', 'demand'): 1, ('demand', 'russia'): 1, ('russia', 'beyond'): 1, ('beyond', 'chart'): 1, ('chart', 'l…'): 1, ('l…', '3634'): 1, ('3634', 'march'): 1, ('march', '15'): 2, ('15', 'bitcoin'): 1, ('bitcoin', 'love'): 1, ('love', 'flirting'): 1, ('flirting', 'mainstream'): 1, ('mainstream', 'us'): 1, ('us', 'president'): 1, ('president', 'say'): 1, ('say', 'want'): 1, ('want', 'get'): 1, ('get', 'serious'): 1, ('serious', 'may'): 1, ('may', 'getting'): 1, ('getting', 'cold'): 1, ('cold', 'crypto'): 1, ('crypto', 'foot'): 1, ('foot', 'joe'): 1, ('joe', 'biden'): 1, ('biden', 'ordered'): 1, ('ordered', 'official'): 1, ('official', '…'): 1, ('…', '4501'): 1, ('4501', 'feb'): 1, ('feb', '24'): 1, ('24', 'welcome'): 1, ('welcome', 'home'): 1, ('home', 'realtime'): 1, ('realtime', 'coverage'): 1, ('coverage', 'market'): 1, ('market', 'brought'): 1, ('brought', 'reporter'): 1, ('reporter', 'share'): 1, ('share', 'thought'): 1, ('thought', 'u'): 1, ('u', 'marketsresearchthomsonreuterscom'): 1, ('marketsresearchthomsonreuterscom', 'bitcoin'): 1, ('bitcoin', 'exactly'): 1, ('exactly', '…'): 1, ('…', '6882'): 1, ('6882', 'ulli'): 1, ('ulli', 'summarylili'): 1, ('summarylili', 'law'): 1, ('law', 'firmslili'): 1, ('firmslili', 'related'): 1, ('related', 'documentsliul'): 1, ('documentsliul', 'company'): 1, ('company', 'law'): 1, ('law', 'firm'): 1, ('firm', 'name'): 1, ('name', 'shown'): 1, ('shown', 'generated'): 1, ('generated', 'automatically'): 1, ('automatically', 'based'): 1, ('based', 'text'): 1, ('text', 'article'): 1, ('article', 'improving'): 1, ('improving', '…'): 1, ('…', '2414'): 1, ('2414', 'ukrainian'): 1, ('ukrainian', 'government'): 1, ('government', 'asking'): 1, ('asking', 'donation'): 1, ('donation', 'bitcoin'): 1, ('bitcoin', 'show'): 1, ('show', 'utility'): 1, ('utility', 'cryptocurrency'): 1, ('cryptocurrency', 'positive'): 1, ('positive', 'sign'): 1, ('sign', 'market'): 1, ('market', 'veteran'): 1, ('veteran', 'strategist'): 1, ('strategist', 'tom'): 1, ('tom', 'lee'): 1, ('lee', 'said'): 1, ('said', 'ukraine'): 1, ('ukraine', 'government'): 1, ('government', 'accoun…'): 1, ('accoun…', '1750'): 1, ('1750', 'san'): 1, ('san', 'salvador'): 2, ('salvador', 'march'): 1, ('march', '11'): 1, ('11', 'el'): 1, ('el', 'salvador'): 2, ('salvador', 'looking'): 1, ('looking', 'right'): 1, ('right', 'timing'): 1, ('timing', 'launch'): 1, ('launch', 'bitcoinbacked'): 1, ('bitcoinbacked', 'bond'): 1, ('bond', 'could'): 1, ('could', 'happen'): 1, ('happen', 'march'): 1, ('15', '20'): 1, ('20', 'central'): 1, ('central', 'american'): 2, ('american', 'nation'): 1, ('nation', 'finance'): 1, ('finance', 'min…'): 1, ('min…', '533'): 1, ('533', 'bitcoin'): 1, ('bitcoin', 'rallied'): 1, ('rallied', 'twoweek'): 1, ('twoweek', 'high'): 1, ('high', 'tuesday'): 1, ('tuesday', 'spite'): 1, ('spite', 'turmoil'): 1, ('turmoil', 'broader'): 1, ('broader', 'market'): 1, ('market', 'thanks'): 1, ('thanks', 'surge'): 1, ('surge', 'buying'): 1, ('buying', 'russians'): 1, ('russians', 'ukrainians'): 1, ('ukrainians', 'may'): 1, ('may', 'seeking'): 1, ('seeking', 'refuge'): 1, ('refuge', 'cryptocurrencies'): 1, ('cryptocurrencies', 't…'): 1, ('t…', '2894'): 1, ('2894', 'san'): 1, ('salvador', 'feb'): 1, ('feb', '20'): 1, ('20', 'el'): 1, ('salvador', 'president'): 1, ('president', 'nayib'): 1, ('nayib', 'bukele'): 1, ('bukele', 'sunday'): 1, ('sunday', 'said'): 1, ('said', 'send'): 1, ('send', 'congress'): 1, ('congress', 'proposal'): 1, ('proposal', 'grant'): 1, ('grant', 'citizenship'): 1, ('citizenship', 'foreigner'): 1, ('foreigner', 'invest'): 1, ('invest', 'central'): 1, ('american', 'country'): 1, ('country', 'we…'): 1, ('we…', '1144'): 1, ('1144', 'motherboard'): 1, ('motherboard', 'found'): 1, ('found', 'old'): 1, ('old', 'footage'): 1, ('footage', 'one'): 1, ('one', 'first'): 1, ('first', 'major'): 1, ('major', 'bitcoin'): 1, ('bitcoin', 'conference'): 1, ('conference', 'bitcoin'): 1, ('bitcoin', '2013'): 1, ('2013', 'san'): 1, ('san', 'jose'): 1, ('jose', '2013'): 1, ('2013', 'old'): 1, ('old', 'thats'): 1, ('thats', '9'): 1, ('9', 'year'): 1, ('year', 'even'): 1, ('even', 'full'): 1, ('full', 'bubblebust'): 1, ('bubblebust', 'cycle'): 1, ('cycle', 'remember'): 1, ('remember', 'bitcoin'): 1, ('bitcoin', 'wh…'): 1, ('wh…', '424'): 1, ('424', 'sec'): 1, ('sec', 'official'): 1, ('official', 'know'): 1, ('know', 'whereabouts'): 1, ('whereabouts', 'satish'): 1, ('satish', 'kumbhani'): 1, ('kumbhani', 'founder'): 1, ('founder', 'crypto'): 1, ('crypto', 'trading'): 1, ('trading', 'platform'): 1, ('platform', 'bitconnect'): 1, ('bitconnect', 'wa'): 1, ('wa', 'charged'): 1, ('charged', 'last'): 1, ('last', 'week'): 1, ('week', 'defrauding'): 1, ('defrauding', 'investor'): 1, ('investor', '24'): 1, ('24', 'billion'): 1, ('billion', 'ponzi'): 1, ('ponzi', 'schem…'): 1, ('schem…', '2634'): 1, ('2634', 'james'): 1, ('james', 'bareham'): 1, ('bareham', 'verge'): 1, ('verge', '15'): 1, ('15', 'million'): 2, ('million', 'donated'): 1, ('donated', 'far'): 1, ('far', '15'): 1, ('million', 'cryptocurrency'): 1, ('cryptocurrency', 'donated'): 1, ('donated', 'ukrainian'): 1, ('ukrainian', 'group'): 1, ('group', 'since'): 1, ('russia', 'attacked'): 1, ('attacked', 'c…'): 1, ('c…', '7442'): 1}\n"
     ]
    }
   ],
   "source": [
    "# Generate the Bitcoin N-grams where N=2\n",
    "# Combine tokens to one list; create a dict of ngrams\n",
    "btc_tokens_list = btc_sentiment_df['tokens'].sum()\n",
    "btc_ngrams_n2 = Counter(ngrams(btc_tokens_list, n=2))\n",
    "\n",
    "print(dict(btc_ngrams_n2))"
   ]
  },
  {
   "cell_type": "code",
   "execution_count": 28,
   "metadata": {},
   "outputs": [
    {
     "name": "stdout",
     "output_type": "stream",
     "text": [
      "{('february', 'shit'): 1, ('shit', 'hit'): 1, ('hit', 'fan'): 1, ('fan', 'usual'): 1, ('usual', 'way'): 1, ('way', 'old'): 1, ('old', 'tweet'): 1, ('tweet', 'resurfaced'): 1, ('resurfaced', 'brantly'): 1, ('brantly', 'millegan'): 1, ('millegan', 'director'): 1, ('director', 'operation'): 1, ('operation', 'ethereum'): 1, ('ethereum', 'name'): 1, ('name', 'service'): 1, ('service', 'ens'): 1, ('ens', 'web3'): 1, ('web3', 'business'): 1, ('business', 'written'): 1, ('written', 'following'): 1, ('following', 'may'): 1, ('may', '201…'): 1, ('201…', '3096'): 1, ('3096', 'coinbase'): 1, ('coinbase', 'reported'): 1, ('reported', 'share'): 1, ('share', 'trading'): 1, ('trading', 'volume'): 2, ('volume', 'ethereum'): 1, ('ethereum', 'altcoins'): 1, ('altcoins', 'increased'): 1, ('increased', 'last'): 1, ('last', 'year'): 1, ('year', 'bitcoins'): 1, ('bitcoins', 'share'): 1, ('share', 'dropped'): 1, ('dropped', 'dramatically'): 1, ('dramatically', '2020'): 1, ('2020', '2021'): 1, ('2021', 'ethereum'): 1, ('ethereum', 'trading'): 1, ('volume', 'in…'): 1, ('in…', '1187'): 1, ('1187', 'james'): 1, ('james', 'bareham'): 1, ('bareham', 'verge'): 1, ('verge', '15'): 1, ('15', 'million'): 2, ('million', 'donated'): 1, ('donated', 'far'): 1, ('far', '15'): 1, ('million', 'cryptocurrency'): 1, ('cryptocurrency', 'donated'): 1, ('donated', 'ukrainian'): 1, ('ukrainian', 'group'): 1, ('group', 'since'): 1, ('since', 'russia'): 2, ('russia', 'attacked'): 2, ('attacked', 'c…'): 1, ('c…', '7442'): 1, ('7442', 'sound'): 1, ('sound', 'good'): 1, ('good', 'true'): 1, ('true', 'youre'): 1, ('youre', 'wrong'): 1, ('wrong', 'yield'): 1, ('yield', 'farming'): 1, ('farming', 'riskier'): 1, ('riskier', 'staking'): 1, ('staking', 'token'): 1, ('token', 'offering'): 1, ('offering', 'high'): 1, ('high', 'interest'): 1, ('interest', 'rate'): 1, ('rate', 'fee'): 1, ('fee', 'yield'): 1, ('yield', 'also'): 1, ('also', 'one'): 1, ('one', 'likely'): 1, ('likely', 'take'): 1, ('take', '…'): 1, ('…', '2371'): 1, ('2371', 'seems'): 1, ('seems', '2022'): 1, ('2022', 'cant'): 1, ('cant', 'escape'): 1, ('escape', 'metaverse'): 1, ('metaverse', 'facebook'): 1, ('facebook', 'microsoft'): 1, ('microsoft', 'seemingly'): 1, ('seemingly', 'every'): 1, ('every', 'centralized'): 1, ('centralized', 'tech'): 1, ('tech', 'firm'): 1, ('firm', 'clambering'): 1, ('clambering', 'bandwagon'): 1, ('bandwagon', 'emerging'): 1, ('emerging', 'virtual'): 1, ('virtual', 'reality'): 1, ('reality', 'puris…'): 1, ('puris…', '5412'): 1, ('5412', 'cryptocurrency'): 1, ('cryptocurrency', 'boom'): 3, ('boom', 'past'): 3, ('past', 'year'): 3, ('year', 'helped'): 3, ('helped', 'propel'): 3, ('propel', 'newer'): 3, ('newer', 'market'): 3, ('market', 'record'): 3, ('record', 'height'): 3, ('height', 'digital'): 3, ('digital', 'collectible'): 3, ('collectible', 'known'): 3, ('known', 'nfts'): 3, ('nfts', 'fact'): 3, ('fact', 'total'): 3, ('total', 'nft'): 3, ('nft', 'sale'): 3, ('sale', 'volume'): 3, ('volume', 'hit'): 3, ('hit', '23'): 3, ('23', 'billion'): 3, ('billion', 'past…'): 3, ('past…', '2680'): 1, ('2680', 'version'): 1, ('version', 'article'): 1, ('article', 'wa'): 1, ('wa', 'published'): 1, ('published', 'time'): 1, ('time', '’'): 1, ('’', 'newsletter'): 1, ('newsletter', 'metaverse'): 1, ('metaverse', 'subscribe'): 1, ('subscribe', 'weekly'): 1, ('weekly', 'guide'): 1, ('guide', 'future'): 1, ('future', 'internet'): 1, ('internet', 'find'): 1, ('find', 'past'): 1, ('past', 'issue'): 1, ('issue', 'newsletter'): 1, ('newsletter', 'last'): 1, ('last', 'wee…'): 1, ('wee…', '7988'): 1, ('7988', 'joe'): 1, ('joe', 'biden'): 1, ('biden', 'dipping'): 1, ('dipping', 'toe'): 1, ('toe', 'crypto'): 1, ('crypto', 'wednesday'): 1, ('wednesday', 'president'): 1, ('president', 'signed'): 1, ('signed', 'firstofitskind'): 1, ('firstofitskind', 'executive'): 1, ('executive', 'order'): 1, ('order', 'outlining'): 1, ('outlining', 'path'): 1, ('path', 'regulation'): 1, ('regulation', 'cryptocurrencies'): 1, ('cryptocurrencies', 'encouraging'): 1, ('encouraging', 'federal'): 1, ('federal', 'agency'): 1, ('agency', 't…'): 1, ('t…', '2590'): 1, ('2590', 'cryptocurrency'): 1, ('past…', '2603'): 1, ('2603', 'cryptocurrency'): 1, ('past…', '2633'): 1, ('2633', 'blockchain'): 1, ('blockchain', 'technology'): 1, ('technology', 'reach'): 1, ('reach', 'true'): 1, ('true', 'mass'): 1, ('mass', 'adoption'): 1, ('adoption', 'become'): 1, ('become', 'cheaper'): 1, ('cheaper', 'efficient'): 1, ('efficient', 'low'): 1, ('low', 'transaction'): 1, ('transaction', 'throughput'): 1, ('throughput', 'popular'): 1, ('popular', 'blockchains'): 1, ('blockchains', 'notably'): 1, ('notably', 'ethereum'): 1, ('ethereum', '…'): 1, ('…', '1852'): 1, ('1852', 'news'): 1, ('news', 'blockchain'): 1, ('blockchain', 'specialist'): 1, ('specialist', 'consensys'): 1, ('consensys', 'scooped'): 1, ('scooped', '450'): 1, ('450', 'million'): 1, ('million', 'series'): 1, ('series', 'round'): 1, ('round', 'value'): 1, ('value', 'usbased'): 1, ('usbased', 'firm'): 1, ('firm', '7'): 1, ('7', 'billion'): 1, ('billion', 'per'): 1, ('per', 'press'): 1, ('press', 'release'): 1, ('release', 'valuation'): 1, ('valuation', 'doubled'): 1, ('doubled', 'since'): 1, ('since', 'its…'): 1, ('its…', '2949'): 1, ('2949', 'kitco'): 1, ('kitco', 'news'): 1, ('news', 'escalating'): 1, ('escalating', 'russiaukraine'): 1, ('russiaukraine', 'crisis'): 1, ('crisis', 'new'): 1, ('new', 'sanction'): 1, ('sanction', 'surging'): 1, ('surging', 'oil'): 1, ('oil', 'price'): 1, ('price', 'investor'): 1, ('investor', 'fleeing'): 1, ('fleeing', 'riskon'): 1, ('riskon', 'asset'): 1, ('asset', 'crypto'): 1, ('crypto', 'space'): 1, ('space', 'getting'): 1, ('getting', 'safehaven'): 1, ('safehaven', 'appeal'): 1, ('appeal', 'back'): 1, ('back', 'peop…'): 1, ('peop…', '3790'): 1, ('3790', 'day'): 1, ('day', 'leading'): 1, ('leading', 'march'): 1, ('march', '11'): 1, ('11', 'purchase'): 1, ('purchase', 'yuga'): 1, ('yuga', 'labs'): 1, ('labs', 'intellectual'): 1, ('intellectual', 'property'): 1, ('property', 'meebits'): 1, ('meebits', 'collection'): 1, ('collection', 'larva'): 1, ('larva', 'labs'): 1, ('labs', 'dozen'): 1, ('dozen', 'address'): 1, ('address', 'ethereum'): 1, ('ethereum', 'blockchain'): 1, ('blockchain', 'purchas…'): 1, ('purchas…', '556'): 1, ('556', 'personal'): 1, ('personal', 'finance'): 1, ('finance', 'insider'): 1, ('insider', 'writes'): 1, ('writes', 'product'): 1, ('product', 'strategy'): 1, ('strategy', 'tip'): 1, ('tip', 'help'): 1, ('help', 'make'): 1, ('make', 'smart'): 1, ('smart', 'decision'): 1, ('decision', 'money'): 1, ('money', 'may'): 1, ('may', 'receive'): 1, ('receive', 'small'): 1, ('small', 'commission'): 1, ('commission', 'partner'): 1, ('partner', 'like'): 1, ('like', 'american'): 1, ('american', 'express'): 1, ('express', '…'): 1, ('…', '5248'): 1, ('5248', 'travel'): 1, ('travel', 'service'): 1, ('service', 'industry'): 1, ('industry', 'fastfood'): 1, ('fastfood', 'chain'): 1, ('chain', 'among'): 1, ('among', 'leading'): 1, ('leading', 'widening'): 1, ('widening', 'acceptance'): 1, ('acceptance', 'cryptocurrencies'): 1, ('cryptocurrencies', 'payment'): 1, ('payment', 'good'): 1, ('good', 'service'): 1, ('service', 'research'): 1, ('research', 'released'): 1, ('released', 'tuesday'): 1, ('tuesday', 'showed'): 1, ('showed', 'top…'): 1, ('top…', '2321'): 1, ('2321', 'ukrainian'): 1, ('ukrainian', 'nonprofit'): 1, ('nonprofit', 'raised'): 1, ('raised', 'bitcoin'): 1, ('bitcoin', 'worth'): 1, ('worth', '4'): 1, ('4', 'million'): 1, ('million', 'support'): 1, ('support', 'country'): 1, ('country', 'army'): 1, ('army', 'since'): 1, ('attacked', 'according'): 1, ('according', 'blockchain'): 1, ('blockchain', 'analytics'): 1, ('analytics', 'company'): 1, ('company', 'elliptic'): 1, ('elliptic', 'come'): 1, ('come', 'back'): 1, ('back', 'alive'): 1, ('alive', 'charita…'): 1, ('charita…', '2415'): 1, ('2415', 'international'): 1, ('international', 'community'): 1, ('community', 'rally'): 1, ('rally', 'around'): 1, ('around', 'ukraine'): 1, ('ukraine', 'amid'): 1, ('amid', 'russias'): 1, ('russias', 'invasion'): 1, ('invasion', 'cryptocurrency'): 1, ('cryptocurrency', 'user'): 1, ('user', 'also'): 1, ('also', 'chipping'): 1, ('chipping', 'according'): 1, ('according', 'blockchainanalysis'): 1, ('blockchainanalysis', 'firm'): 1, ('firm', 'elliptic'): 1, ('elliptic', 'nearly'): 1, ('nearly', '55'): 1, ('55', 'million'): 1, ('million', 'cryptoas…'): 1, ('cryptoas…', '2478'): 1, ('2478', 'inflation'): 1, ('inflation', 'rate'): 1, ('rate', 'expectedly'): 1, ('expectedly', 'begun'): 1, ('begun', 'soar'): 1, ('soar', 'upon'): 1, ('upon', 'ongoing'): 1, ('ongoing', 'conflict'): 1, ('conflict', 'russia'): 1, ('russia', 'ukraine'): 1, ('ukraine', 'bloomberg'): 1, ('bloomberg', 'getty'): 1, ('getty', 'images'): 1, ('images', 'surge'): 1, ('surge', 'pricing'): 1, ('pricing', 'offset'): 1, ('offset', 'rising'): 1, ('rising', 'fuel'): 1, ('fuel', 'cost'): 1, ('cost', 'rideshare'): 1, ('rideshare', 'company'): 1, ('company', 'like'): 1, ('like', '…'): 1, ('…', '1995'): 1, ('1995', 'representations'): 1, ('representations', 'cryptocurrencies'): 1, ('cryptocurrencies', 'bitcoin'): 1, ('bitcoin', 'ethereum'): 1, ('ethereum', 'dogecoin'): 1, ('dogecoin', 'ripple'): 1, ('ripple', 'litecoin'): 1, ('litecoin', 'seen'): 1, ('seen', 'front'): 1, ('front', 'displayed'): 1, ('displayed', 'binance'): 1, ('binance', 'logo'): 1, ('logo', 'taken'): 1, ('taken', 'june'): 1, ('june', '28'): 1, ('28', '2021'): 1, ('2021', 'reutersdado'): 1, ('reutersdado', 'ruvicillus…'): 1, ('ruvicillus…', '1327'): 1}\n"
     ]
    }
   ],
   "source": [
    "# Generate the Ethereum N-grams where N=2\n",
    "# Same as above, make a list of tokens and a dict of ngrams\n",
    "eth_tokens_list = eth_sentiment_df['tokens'].sum()\n",
    "eth_ngrams_n2 = Counter(ngrams(eth_tokens_list, n=2))\n",
    "\n",
    "print(dict(eth_ngrams_n2))"
   ]
  },
  {
   "cell_type": "code",
   "execution_count": 29,
   "metadata": {},
   "outputs": [],
   "source": [
    "# Function token_count generates the top 10 words for a given coin\n",
    "def token_count(tokens, N=3):\n",
    "    \"\"\"Returns the top N tokens from the frequency count\"\"\"\n",
    "    return Counter(tokens).most_common(N)"
   ]
  },
  {
   "cell_type": "code",
   "execution_count": 30,
   "metadata": {},
   "outputs": [
    {
     "data": {
      "text/plain": [
       "[('bitcoin', 13),\n",
       " ('russia', 5),\n",
       " ('ukraine', 5),\n",
       " ('march', 5),\n",
       " ('crypto', 5),\n",
       " ('…', 4),\n",
       " ('week', 4),\n",
       " ('15', 4),\n",
       " ('salvador', 4),\n",
       " ('wa', 3)]"
      ]
     },
     "execution_count": 30,
     "metadata": {},
     "output_type": "execute_result"
    }
   ],
   "source": [
    "# Use token_count to get the top 10 words for Bitcoin\n",
    "btc_top_10_words = token_count(btc_tokens_list, 10)\n",
    "btc_top_10_words"
   ]
  },
  {
   "cell_type": "code",
   "execution_count": 31,
   "metadata": {},
   "outputs": [
    {
     "data": {
      "text/plain": [
       "[('ethereum', 6),\n",
       " ('volume', 5),\n",
       " ('million', 5),\n",
       " ('cryptocurrency', 5),\n",
       " ('hit', 4),\n",
       " ('year', 4),\n",
       " ('…', 4),\n",
       " ('past', 4),\n",
       " ('billion', 4),\n",
       " ('blockchain', 4)]"
      ]
     },
     "execution_count": 31,
     "metadata": {},
     "output_type": "execute_result"
    }
   ],
   "source": [
    "# Use token_count to get the top 10 words for Ethereum\n",
    "eth_top_10_words = token_count(eth_tokens_list, 10)\n",
    "eth_top_10_words"
   ]
  },
  {
   "cell_type": "markdown",
   "metadata": {},
   "source": [
    "---"
   ]
  },
  {
   "cell_type": "markdown",
   "metadata": {},
   "source": [
    "### Word Clouds\n",
    "\n",
    "In this section, you will generate word clouds for each coin to summarize the news for each coin"
   ]
  },
  {
   "cell_type": "code",
   "execution_count": 21,
   "metadata": {},
   "outputs": [],
   "source": [
    "from wordcloud import WordCloud\n",
    "import matplotlib.pyplot as plt\n",
    "plt.style.use('seaborn-whitegrid')\n",
    "import matplotlib as mpl\n",
    "mpl.rcParams['figure.figsize'] = [20.0, 10.0]"
   ]
  },
  {
   "cell_type": "code",
   "execution_count": 22,
   "metadata": {},
   "outputs": [],
   "source": [
    "# Generate the Bitcoin word cloud\n",
    "# YOUR CODE HERE!"
   ]
  },
  {
   "cell_type": "code",
   "execution_count": 23,
   "metadata": {},
   "outputs": [],
   "source": [
    "# Generate the Ethereum word cloud\n",
    "# YOUR CODE HERE!"
   ]
  },
  {
   "cell_type": "markdown",
   "metadata": {},
   "source": [
    "---\n",
    "## 3. Named Entity Recognition\n",
    "\n",
    "In this section, you will build a named entity recognition model for both Bitcoin and Ethereum, then visualize the tags using SpaCy."
   ]
  },
  {
   "cell_type": "code",
   "execution_count": 24,
   "metadata": {},
   "outputs": [],
   "source": [
    "import spacy\n",
    "from spacy import displacy"
   ]
  },
  {
   "cell_type": "code",
   "execution_count": 25,
   "metadata": {},
   "outputs": [],
   "source": [
    "# Download the language model for SpaCy\n",
    "# !python -m spacy download en_core_web_sm"
   ]
  },
  {
   "cell_type": "code",
   "execution_count": 26,
   "metadata": {},
   "outputs": [],
   "source": [
    "# Load the spaCy model\n",
    "nlp = spacy.load('en_core_web_sm')"
   ]
  },
  {
   "cell_type": "markdown",
   "metadata": {},
   "source": [
    "---\n",
    "### Bitcoin NER"
   ]
  },
  {
   "cell_type": "code",
   "execution_count": 27,
   "metadata": {},
   "outputs": [],
   "source": [
    "# Concatenate all of the Bitcoin text together\n",
    "# YOUR CODE HERE!"
   ]
  },
  {
   "cell_type": "code",
   "execution_count": 28,
   "metadata": {},
   "outputs": [],
   "source": [
    "# Run the NER processor on all of the text\n",
    "# YOUR CODE HERE!\n",
    "\n",
    "# Add a title to the document\n",
    "# YOUR CODE HERE!"
   ]
  },
  {
   "cell_type": "code",
   "execution_count": 29,
   "metadata": {},
   "outputs": [],
   "source": [
    "# Render the visualization\n",
    "# YOUR CODE HERE!"
   ]
  },
  {
   "cell_type": "code",
   "execution_count": 30,
   "metadata": {},
   "outputs": [],
   "source": [
    "# List all Entities\n",
    "# YOUR CODE HERE!"
   ]
  },
  {
   "cell_type": "markdown",
   "metadata": {},
   "source": [
    "---"
   ]
  },
  {
   "cell_type": "markdown",
   "metadata": {},
   "source": [
    "### Ethereum NER"
   ]
  },
  {
   "cell_type": "code",
   "execution_count": 31,
   "metadata": {},
   "outputs": [],
   "source": [
    "# Concatenate all of the Ethereum text together\n",
    "# YOUR CODE HERE!"
   ]
  },
  {
   "cell_type": "code",
   "execution_count": 32,
   "metadata": {},
   "outputs": [],
   "source": [
    "# Run the NER processor on all of the text\n",
    "# YOUR CODE HERE!\n",
    "\n",
    "# Add a title to the document\n",
    "# YOUR CODE HERE!"
   ]
  },
  {
   "cell_type": "code",
   "execution_count": 33,
   "metadata": {},
   "outputs": [],
   "source": [
    "# Render the visualization\n",
    "# YOUR CODE HERE!"
   ]
  },
  {
   "cell_type": "code",
   "execution_count": 34,
   "metadata": {},
   "outputs": [],
   "source": [
    "# List all Entities\n",
    "# YOUR CODE HERE!"
   ]
  },
  {
   "cell_type": "markdown",
   "metadata": {},
   "source": [
    "---"
   ]
  }
 ],
 "metadata": {
  "file_extension": ".py",
  "kernelspec": {
   "display_name": "Python 3 (ipykernel)",
   "language": "python",
   "name": "python3"
  },
  "language_info": {
   "codemirror_mode": {
    "name": "ipython",
    "version": 3
   },
   "file_extension": ".py",
   "mimetype": "text/x-python",
   "name": "python",
   "nbconvert_exporter": "python",
   "pygments_lexer": "ipython3",
   "version": "3.9.10"
  },
  "mimetype": "text/x-python",
  "name": "python",
  "npconvert_exporter": "python",
  "pygments_lexer": "ipython3",
  "version": 3
 },
 "nbformat": 4,
 "nbformat_minor": 4
}
